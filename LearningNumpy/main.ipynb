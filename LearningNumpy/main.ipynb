{
 "cells": [
  {
   "cell_type": "markdown",
   "metadata": {},
   "source": [
    "# NumPy || Numric Python"
   ]
  },
  {
   "cell_type": "markdown",
   "metadata": {},
   "source": []
  },
  {
   "cell_type": "markdown",
   "metadata": {},
   "source": [
    "![\"NumPy\"](https://miro.medium.com/v2/resize:fit:1400/0*SpprfEyaZaWE_Pez)"
   ]
  },
  {
   "cell_type": "code",
   "execution_count": 1,
   "metadata": {},
   "outputs": [],
   "source": [
    "import numpy as np"
   ]
  },
  {
   "cell_type": "code",
   "execution_count": 2,
   "metadata": {},
   "outputs": [
    {
     "data": {
      "text/plain": [
       "array([1, 2, 3, 4])"
      ]
     },
     "execution_count": 2,
     "metadata": {},
     "output_type": "execute_result"
    }
   ],
   "source": [
    "# 1D Array \n",
    "arr = np.array([1,2,3,4])\n",
    "arr"
   ]
  },
  {
   "cell_type": "code",
   "execution_count": 3,
   "metadata": {},
   "outputs": [],
   "source": [
    "# 2D Array \n",
    "arr = np.array(\n",
    "    [\n",
    "        [1,2,3],\n",
    "        [4,5,6],\n",
    "        [8,9,10]\n",
    "    ])"
   ]
  },
  {
   "cell_type": "code",
   "execution_count": 4,
   "metadata": {},
   "outputs": [
    {
     "data": {
      "text/plain": [
       "array([[ 1,  2,  3],\n",
       "       [ 4,  5,  6],\n",
       "       [ 8,  9, 10]])"
      ]
     },
     "execution_count": 4,
     "metadata": {},
     "output_type": "execute_result"
    }
   ],
   "source": [
    "arr"
   ]
  },
  {
   "cell_type": "code",
   "execution_count": 5,
   "metadata": {},
   "outputs": [
    {
     "data": {
      "text/plain": [
       "(3, 3)"
      ]
     },
     "execution_count": 5,
     "metadata": {},
     "output_type": "execute_result"
    }
   ],
   "source": [
    "arr.shape"
   ]
  },
  {
   "cell_type": "code",
   "execution_count": 6,
   "metadata": {},
   "outputs": [
    {
     "data": {
      "text/plain": [
       "2.0"
      ]
     },
     "execution_count": 6,
     "metadata": {},
     "output_type": "execute_result"
    }
   ],
   "source": [
    "arr[0].mean()"
   ]
  },
  {
   "cell_type": "code",
   "execution_count": 7,
   "metadata": {},
   "outputs": [
    {
     "data": {
      "text/plain": [
       "3"
      ]
     },
     "execution_count": 7,
     "metadata": {},
     "output_type": "execute_result"
    }
   ],
   "source": [
    "arr[0].max()"
   ]
  },
  {
   "cell_type": "code",
   "execution_count": 8,
   "metadata": {},
   "outputs": [
    {
     "data": {
      "text/plain": [
       "array([[0., 0., 0., 0.],\n",
       "       [0., 0., 0., 0.],\n",
       "       [0., 0., 0., 0.],\n",
       "       [0., 0., 0., 0.],\n",
       "       [0., 0., 0., 0.]])"
      ]
     },
     "execution_count": 8,
     "metadata": {},
     "output_type": "execute_result"
    }
   ],
   "source": [
    "arr = np.zeros([5,4])\n",
    "arr"
   ]
  },
  {
   "cell_type": "code",
   "execution_count": 9,
   "metadata": {},
   "outputs": [
    {
     "data": {
      "text/plain": [
       "array([[1., 1., 1., 1.],\n",
       "       [1., 1., 1., 1.],\n",
       "       [1., 1., 1., 1.],\n",
       "       [1., 1., 1., 1.],\n",
       "       [1., 1., 1., 1.]])"
      ]
     },
     "execution_count": 9,
     "metadata": {},
     "output_type": "execute_result"
    }
   ],
   "source": [
    "arr = np.ones([5,4])\n",
    "arr"
   ]
  },
  {
   "cell_type": "code",
   "execution_count": 10,
   "metadata": {},
   "outputs": [
    {
     "data": {
      "text/plain": [
       "array([  1.        ,   1.19839679,   1.39679359,   1.59519038,\n",
       "         1.79358717,   1.99198397,   2.19038076,   2.38877756,\n",
       "         2.58717435,   2.78557114,   2.98396794,   3.18236473,\n",
       "         3.38076152,   3.57915832,   3.77755511,   3.9759519 ,\n",
       "         4.1743487 ,   4.37274549,   4.57114228,   4.76953908,\n",
       "         4.96793587,   5.16633267,   5.36472946,   5.56312625,\n",
       "         5.76152305,   5.95991984,   6.15831663,   6.35671343,\n",
       "         6.55511022,   6.75350701,   6.95190381,   7.1503006 ,\n",
       "         7.34869739,   7.54709419,   7.74549098,   7.94388778,\n",
       "         8.14228457,   8.34068136,   8.53907816,   8.73747495,\n",
       "         8.93587174,   9.13426854,   9.33266533,   9.53106212,\n",
       "         9.72945892,   9.92785571,  10.12625251,  10.3246493 ,\n",
       "        10.52304609,  10.72144289,  10.91983968,  11.11823647,\n",
       "        11.31663327,  11.51503006,  11.71342685,  11.91182365,\n",
       "        12.11022044,  12.30861723,  12.50701403,  12.70541082,\n",
       "        12.90380762,  13.10220441,  13.3006012 ,  13.498998  ,\n",
       "        13.69739479,  13.89579158,  14.09418838,  14.29258517,\n",
       "        14.49098196,  14.68937876,  14.88777555,  15.08617234,\n",
       "        15.28456914,  15.48296593,  15.68136273,  15.87975952,\n",
       "        16.07815631,  16.27655311,  16.4749499 ,  16.67334669,\n",
       "        16.87174349,  17.07014028,  17.26853707,  17.46693387,\n",
       "        17.66533066,  17.86372745,  18.06212425,  18.26052104,\n",
       "        18.45891784,  18.65731463,  18.85571142,  19.05410822,\n",
       "        19.25250501,  19.4509018 ,  19.6492986 ,  19.84769539,\n",
       "        20.04609218,  20.24448898,  20.44288577,  20.64128257,\n",
       "        20.83967936,  21.03807615,  21.23647295,  21.43486974,\n",
       "        21.63326653,  21.83166333,  22.03006012,  22.22845691,\n",
       "        22.42685371,  22.6252505 ,  22.82364729,  23.02204409,\n",
       "        23.22044088,  23.41883768,  23.61723447,  23.81563126,\n",
       "        24.01402806,  24.21242485,  24.41082164,  24.60921844,\n",
       "        24.80761523,  25.00601202,  25.20440882,  25.40280561,\n",
       "        25.6012024 ,  25.7995992 ,  25.99799599,  26.19639279,\n",
       "        26.39478958,  26.59318637,  26.79158317,  26.98997996,\n",
       "        27.18837675,  27.38677355,  27.58517034,  27.78356713,\n",
       "        27.98196393,  28.18036072,  28.37875752,  28.57715431,\n",
       "        28.7755511 ,  28.9739479 ,  29.17234469,  29.37074148,\n",
       "        29.56913828,  29.76753507,  29.96593186,  30.16432866,\n",
       "        30.36272545,  30.56112224,  30.75951904,  30.95791583,\n",
       "        31.15631263,  31.35470942,  31.55310621,  31.75150301,\n",
       "        31.9498998 ,  32.14829659,  32.34669339,  32.54509018,\n",
       "        32.74348697,  32.94188377,  33.14028056,  33.33867735,\n",
       "        33.53707415,  33.73547094,  33.93386774,  34.13226453,\n",
       "        34.33066132,  34.52905812,  34.72745491,  34.9258517 ,\n",
       "        35.1242485 ,  35.32264529,  35.52104208,  35.71943888,\n",
       "        35.91783567,  36.11623246,  36.31462926,  36.51302605,\n",
       "        36.71142285,  36.90981964,  37.10821643,  37.30661323,\n",
       "        37.50501002,  37.70340681,  37.90180361,  38.1002004 ,\n",
       "        38.29859719,  38.49699399,  38.69539078,  38.89378758,\n",
       "        39.09218437,  39.29058116,  39.48897796,  39.68737475,\n",
       "        39.88577154,  40.08416834,  40.28256513,  40.48096192,\n",
       "        40.67935872,  40.87775551,  41.0761523 ,  41.2745491 ,\n",
       "        41.47294589,  41.67134269,  41.86973948,  42.06813627,\n",
       "        42.26653307,  42.46492986,  42.66332665,  42.86172345,\n",
       "        43.06012024,  43.25851703,  43.45691383,  43.65531062,\n",
       "        43.85370741,  44.05210421,  44.250501  ,  44.4488978 ,\n",
       "        44.64729459,  44.84569138,  45.04408818,  45.24248497,\n",
       "        45.44088176,  45.63927856,  45.83767535,  46.03607214,\n",
       "        46.23446894,  46.43286573,  46.63126253,  46.82965932,\n",
       "        47.02805611,  47.22645291,  47.4248497 ,  47.62324649,\n",
       "        47.82164329,  48.02004008,  48.21843687,  48.41683367,\n",
       "        48.61523046,  48.81362725,  49.01202405,  49.21042084,\n",
       "        49.40881764,  49.60721443,  49.80561122,  50.00400802,\n",
       "        50.20240481,  50.4008016 ,  50.5991984 ,  50.79759519,\n",
       "        50.99599198,  51.19438878,  51.39278557,  51.59118236,\n",
       "        51.78957916,  51.98797595,  52.18637275,  52.38476954,\n",
       "        52.58316633,  52.78156313,  52.97995992,  53.17835671,\n",
       "        53.37675351,  53.5751503 ,  53.77354709,  53.97194389,\n",
       "        54.17034068,  54.36873747,  54.56713427,  54.76553106,\n",
       "        54.96392786,  55.16232465,  55.36072144,  55.55911824,\n",
       "        55.75751503,  55.95591182,  56.15430862,  56.35270541,\n",
       "        56.5511022 ,  56.749499  ,  56.94789579,  57.14629259,\n",
       "        57.34468938,  57.54308617,  57.74148297,  57.93987976,\n",
       "        58.13827655,  58.33667335,  58.53507014,  58.73346693,\n",
       "        58.93186373,  59.13026052,  59.32865731,  59.52705411,\n",
       "        59.7254509 ,  59.9238477 ,  60.12224449,  60.32064128,\n",
       "        60.51903808,  60.71743487,  60.91583166,  61.11422846,\n",
       "        61.31262525,  61.51102204,  61.70941884,  61.90781563,\n",
       "        62.10621242,  62.30460922,  62.50300601,  62.70140281,\n",
       "        62.8997996 ,  63.09819639,  63.29659319,  63.49498998,\n",
       "        63.69338677,  63.89178357,  64.09018036,  64.28857715,\n",
       "        64.48697395,  64.68537074,  64.88376754,  65.08216433,\n",
       "        65.28056112,  65.47895792,  65.67735471,  65.8757515 ,\n",
       "        66.0741483 ,  66.27254509,  66.47094188,  66.66933868,\n",
       "        66.86773547,  67.06613226,  67.26452906,  67.46292585,\n",
       "        67.66132265,  67.85971944,  68.05811623,  68.25651303,\n",
       "        68.45490982,  68.65330661,  68.85170341,  69.0501002 ,\n",
       "        69.24849699,  69.44689379,  69.64529058,  69.84368737,\n",
       "        70.04208417,  70.24048096,  70.43887776,  70.63727455,\n",
       "        70.83567134,  71.03406814,  71.23246493,  71.43086172,\n",
       "        71.62925852,  71.82765531,  72.0260521 ,  72.2244489 ,\n",
       "        72.42284569,  72.62124248,  72.81963928,  73.01803607,\n",
       "        73.21643287,  73.41482966,  73.61322645,  73.81162325,\n",
       "        74.01002004,  74.20841683,  74.40681363,  74.60521042,\n",
       "        74.80360721,  75.00200401,  75.2004008 ,  75.3987976 ,\n",
       "        75.59719439,  75.79559118,  75.99398798,  76.19238477,\n",
       "        76.39078156,  76.58917836,  76.78757515,  76.98597194,\n",
       "        77.18436874,  77.38276553,  77.58116232,  77.77955912,\n",
       "        77.97795591,  78.17635271,  78.3747495 ,  78.57314629,\n",
       "        78.77154309,  78.96993988,  79.16833667,  79.36673347,\n",
       "        79.56513026,  79.76352705,  79.96192385,  80.16032064,\n",
       "        80.35871743,  80.55711423,  80.75551102,  80.95390782,\n",
       "        81.15230461,  81.3507014 ,  81.5490982 ,  81.74749499,\n",
       "        81.94589178,  82.14428858,  82.34268537,  82.54108216,\n",
       "        82.73947896,  82.93787575,  83.13627255,  83.33466934,\n",
       "        83.53306613,  83.73146293,  83.92985972,  84.12825651,\n",
       "        84.32665331,  84.5250501 ,  84.72344689,  84.92184369,\n",
       "        85.12024048,  85.31863727,  85.51703407,  85.71543086,\n",
       "        85.91382766,  86.11222445,  86.31062124,  86.50901804,\n",
       "        86.70741483,  86.90581162,  87.10420842,  87.30260521,\n",
       "        87.501002  ,  87.6993988 ,  87.89779559,  88.09619238,\n",
       "        88.29458918,  88.49298597,  88.69138277,  88.88977956,\n",
       "        89.08817635,  89.28657315,  89.48496994,  89.68336673,\n",
       "        89.88176353,  90.08016032,  90.27855711,  90.47695391,\n",
       "        90.6753507 ,  90.87374749,  91.07214429,  91.27054108,\n",
       "        91.46893788,  91.66733467,  91.86573146,  92.06412826,\n",
       "        92.26252505,  92.46092184,  92.65931864,  92.85771543,\n",
       "        93.05611222,  93.25450902,  93.45290581,  93.65130261,\n",
       "        93.8496994 ,  94.04809619,  94.24649299,  94.44488978,\n",
       "        94.64328657,  94.84168337,  95.04008016,  95.23847695,\n",
       "        95.43687375,  95.63527054,  95.83366733,  96.03206413,\n",
       "        96.23046092,  96.42885772,  96.62725451,  96.8256513 ,\n",
       "        97.0240481 ,  97.22244489,  97.42084168,  97.61923848,\n",
       "        97.81763527,  98.01603206,  98.21442886,  98.41282565,\n",
       "        98.61122244,  98.80961924,  99.00801603,  99.20641283,\n",
       "        99.40480962,  99.60320641,  99.80160321, 100.        ])"
      ]
     },
     "execution_count": 10,
     "metadata": {},
     "output_type": "execute_result"
    }
   ],
   "source": [
    "arr = np.linspace(1,100,500)\n",
    "arr"
   ]
  },
  {
   "cell_type": "code",
   "execution_count": 11,
   "metadata": {},
   "outputs": [
    {
     "data": {
      "text/plain": [
       "array([[1., 1., 1., 1., 1., 1., 1., 1., 1., 1., 1., 1., 1., 1., 1., 1.,\n",
       "        1., 1., 1., 1.],\n",
       "       [1., 1., 1., 1., 1., 1., 1., 1., 1., 1., 1., 1., 1., 1., 1., 1.,\n",
       "        1., 1., 1., 1.],\n",
       "       [1., 1., 1., 1., 1., 1., 1., 1., 1., 1., 1., 1., 1., 1., 1., 1.,\n",
       "        1., 1., 1., 1.],\n",
       "       [1., 1., 1., 1., 1., 1., 1., 1., 1., 1., 1., 1., 1., 1., 1., 1.,\n",
       "        1., 1., 1., 1.],\n",
       "       [1., 1., 1., 1., 1., 1., 1., 1., 1., 1., 1., 1., 1., 1., 1., 1.,\n",
       "        1., 1., 1., 1.]])"
      ]
     },
     "execution_count": 11,
     "metadata": {},
     "output_type": "execute_result"
    }
   ],
   "source": [
    "arr = np.ones([10,10])\n",
    "arr.reshape(5,20)"
   ]
  },
  {
   "cell_type": "code",
   "execution_count": 12,
   "metadata": {},
   "outputs": [
    {
     "name": "stdout",
     "output_type": "stream",
     "text": [
      "<U6\n"
     ]
    }
   ],
   "source": [
    "arr = np.array(['apple', 'banana', 'cherry'])\n",
    "print(arr.dtype)"
   ]
  },
  {
   "cell_type": "code",
   "execution_count": 13,
   "metadata": {},
   "outputs": [
    {
     "data": {
      "text/plain": [
       "array(['apple', 'banana', 'cherry'], dtype='<U6')"
      ]
     },
     "execution_count": 13,
     "metadata": {},
     "output_type": "execute_result"
    }
   ],
   "source": [
    "# Changes In Copy Will Not Effect on Original Array\n",
    "arr = np.array(['apple', 'banana', 'cherry'])\n",
    "x = arr.copy()\n",
    "x[0] = \"Grape\"\n",
    "arr\n"
   ]
  },
  {
   "cell_type": "code",
   "execution_count": 14,
   "metadata": {},
   "outputs": [
    {
     "data": {
      "text/plain": [
       "array(['Grape', 'banana', 'cherry'], dtype='<U6')"
      ]
     },
     "execution_count": 14,
     "metadata": {},
     "output_type": "execute_result"
    }
   ],
   "source": [
    "# Changes In View Will Effect on Original Array\n",
    "arr = np.array(['apple', 'banana', 'cherry'])\n",
    "x = arr.view()\n",
    "x[0] = \"Grape\"\n",
    "arr"
   ]
  },
  {
   "cell_type": "code",
   "execution_count": 15,
   "metadata": {},
   "outputs": [
    {
     "name": "stdout",
     "output_type": "stream",
     "text": [
      "apple\n",
      "banana\n",
      "cherry\n"
     ]
    }
   ],
   "source": [
    "arr = np.array(['apple', 'banana', 'cherry'])\n",
    "for item in arr:\n",
    "    print(item)"
   ]
  },
  {
   "cell_type": "code",
   "execution_count": 16,
   "metadata": {},
   "outputs": [
    {
     "name": "stdout",
     "output_type": "stream",
     "text": [
      "1 | 2 | 3 | \n",
      "4 | 5 | 6 | \n",
      "8 | 9 | 10 | \n"
     ]
    }
   ],
   "source": [
    "# Printing The 2d Array:\n",
    "arr = np.array(\n",
    "    [\n",
    "        [1,2,3],\n",
    "        [4,5,6],\n",
    "        [8,9,10]\n",
    "    ])\n",
    "\n",
    "for i in range(len(arr)):\n",
    "    for j in  range(len(arr[i])):\n",
    "        print(arr[i][j], end= \" | \")\n",
    "    print()\n"
   ]
  },
  {
   "cell_type": "code",
   "execution_count": 17,
   "metadata": {},
   "outputs": [
    {
     "data": {
      "text/plain": [
       "array([[[ 1,  2,  3],\n",
       "        [ 4,  5,  6],\n",
       "        [ 7,  8,  9]],\n",
       "\n",
       "       [[ 1, 20,  3],\n",
       "        [ 4,  5,  6],\n",
       "        [ 7,  8,  9]],\n",
       "\n",
       "       [[ 1,  2,  3],\n",
       "        [ 4,  5,  6],\n",
       "        [ 7,  8,  9]]])"
      ]
     },
     "execution_count": 17,
     "metadata": {},
     "output_type": "execute_result"
    }
   ],
   "source": [
    "#! 3d List:\n",
    "N = [\n",
    "    [\n",
    "        [1, 2, 3], \n",
    "        [4, 5, 6], \n",
    "        [7, 8, 9]\n",
    "    ],\n",
    "    [\n",
    "        [1, 20, 3], \n",
    "        [4, 5, 6], \n",
    "        [7, 8, 9]\n",
    "    ],\n",
    "    [\n",
    "        [1, 2, 3], \n",
    "        [4, 5, 6], \n",
    "        [7, 8, 9]\n",
    "    ]\n",
    "]\n",
    "\n",
    "arr = np.array(N)\n",
    "arr"
   ]
  },
  {
   "cell_type": "code",
   "execution_count": 18,
   "metadata": {},
   "outputs": [
    {
     "name": "stdout",
     "output_type": "stream",
     "text": [
      "-----------\n",
      "1 | 2 | 3 | \n",
      "4 | 5 | 6 | \n",
      "7 | 8 | 9 | \n",
      "-----------\n",
      "1 | 20 | 3 | \n",
      "4 | 5 | 6 | \n",
      "7 | 8 | 9 | \n",
      "-----------\n",
      "1 | 2 | 3 | \n",
      "4 | 5 | 6 | \n",
      "7 | 8 | 9 | \n",
      "-----------\n"
     ]
    }
   ],
   "source": [
    "for i in range(len(arr)):\n",
    "    print(\"-----------\")\n",
    "    for j in range(len(arr[i])):\n",
    "        for k in range(len(arr[i][j])):\n",
    "            print(arr[i][j][k], end= \" | \")\n",
    "        print()\n",
    "print(\"-----------\")"
   ]
  },
  {
   "cell_type": "code",
   "execution_count": 19,
   "metadata": {},
   "outputs": [
    {
     "name": "stdout",
     "output_type": "stream",
     "text": [
      "1\n",
      "2\n",
      "3\n",
      "4\n",
      "5\n",
      "6\n",
      "7\n",
      "8\n"
     ]
    }
   ],
   "source": [
    "\n",
    "arr = np.array([[[1, 2], [3, 4]], [[5, 6], [7, 8]]])\n",
    "\n",
    "for x in np.nditer(arr):\n",
    "  print(x)"
   ]
  },
  {
   "cell_type": "code",
   "execution_count": 21,
   "metadata": {},
   "outputs": [
    {
     "data": {
      "text/plain": [
       "[1, 2, 3, 4, 5, 6, 7, 8, 9, 10, 11, 12, 13, 14, 15, 16]"
      ]
     },
     "execution_count": 21,
     "metadata": {},
     "output_type": "execute_result"
    }
   ],
   "source": [
    "x = [1,2,3,4,5,6,7,8]\n",
    "y = [9,10,11,12,13,14,15,16]\n",
    "\n",
    "z = x+y\n",
    "z = x.extend(z)\n",
    "# Both are Same \n",
    "z"
   ]
  },
  {
   "cell_type": "code",
   "execution_count": 30,
   "metadata": {},
   "outputs": [
    {
     "data": {
      "text/plain": [
       "array([ 1,  2,  3,  9, 10, 11])"
      ]
     },
     "execution_count": 30,
     "metadata": {},
     "output_type": "execute_result"
    }
   ],
   "source": [
    "x = np.array([1,2,3,])\n",
    "y = np.array([9,10,11])\n",
    "\n",
    "# z = x+y # This Will Calculate the Sum Of Arrays\n",
    "# z = np.add(x,y) # This Will Calculate the Sum Of Arrays\n",
    "z = np.concatenate((x,y)) \n",
    "z"
   ]
  },
  {
   "cell_type": "code",
   "execution_count": 35,
   "metadata": {},
   "outputs": [
    {
     "data": {
      "text/plain": [
       "array([[1, 2, 5, 6],\n",
       "       [3, 4, 7, 8]])"
      ]
     },
     "execution_count": 35,
     "metadata": {},
     "output_type": "execute_result"
    }
   ],
   "source": [
    "arr1 = np.array([[1, 2], [3, 4]])\n",
    "\n",
    "arr2 = np.array([[5, 6], [7, 8]])\n",
    "\n",
    "arr = np.concatenate((arr1, arr2), axis = 0)\n",
    "arr = np.concatenate((arr1, arr2), axis = 1)\n",
    "arr"
   ]
  },
  {
   "cell_type": "code",
   "execution_count": 38,
   "metadata": {},
   "outputs": [
    {
     "data": {
      "text/plain": [
       "array([[1, 2, 3],\n",
       "       [4, 5, 6]])"
      ]
     },
     "execution_count": 38,
     "metadata": {},
     "output_type": "execute_result"
    }
   ],
   "source": [
    "arr1 = np.array([1, 2, 3])\n",
    "\n",
    "arr2 = np.array([4, 5, 6])\n",
    "\n",
    "arr = np.hstack((arr1, arr2))\n",
    "arr = np.vstack((arr1, arr2))\n",
    "arr"
   ]
  },
  {
   "cell_type": "code",
   "execution_count": 40,
   "metadata": {},
   "outputs": [
    {
     "data": {
      "text/plain": [
       "array([[[1, 4],\n",
       "        [2, 5],\n",
       "        [3, 6]]])"
      ]
     },
     "execution_count": 40,
     "metadata": {},
     "output_type": "execute_result"
    }
   ],
   "source": [
    "\n",
    "arr1 = np.array([1, 2, 3])\n",
    "\n",
    "arr2 = np.array([4, 5, 6])\n",
    "\n",
    "arr = np.dstack((arr1, arr2))\n",
    "arr"
   ]
  },
  {
   "cell_type": "code",
   "execution_count": 45,
   "metadata": {},
   "outputs": [
    {
     "name": "stdout",
     "output_type": "stream",
     "text": [
      "[array([1, 2]), array([3, 4]), array([5, 6])]\n"
     ]
    }
   ],
   "source": [
    "\n",
    "arr = np.array([1, 2, 3, 4, 5, 6])\n",
    "\n",
    "newarr = np.array_split(arr, 3)\n",
    "\n",
    "print(newarr)"
   ]
  },
  {
   "cell_type": "code",
   "execution_count": 48,
   "metadata": {},
   "outputs": [
    {
     "name": "stdout",
     "output_type": "stream",
     "text": [
      "[array([[ 1],\n",
      "       [ 4],\n",
      "       [ 7],\n",
      "       [10],\n",
      "       [13],\n",
      "       [16]]), array([[ 2],\n",
      "       [ 5],\n",
      "       [ 8],\n",
      "       [11],\n",
      "       [14],\n",
      "       [17]]), array([[ 3],\n",
      "       [ 6],\n",
      "       [ 9],\n",
      "       [12],\n",
      "       [15],\n",
      "       [18]])]\n"
     ]
    }
   ],
   "source": [
    "arr = np.array([[1, 2, 3], [4, 5, 6], [7, 8, 9], [10, 11, 12], [13, 14, 15], [16, 17, 18]])\n",
    "\n",
    "newarr = np.array_split(arr, 3, axis=0)\n",
    "newarr = np.array_split(arr, 3, axis=1)\n",
    "\n",
    "print(newarr)"
   ]
  },
  {
   "cell_type": "code",
   "execution_count": 51,
   "metadata": {},
   "outputs": [
    {
     "name": "stdout",
     "output_type": "stream",
     "text": [
      "(array([3, 5, 6]),)\n"
     ]
    }
   ],
   "source": [
    "arr = np.array([1, 2, 3, 4, 5, 4, 4])\n",
    "\n",
    "x = np.where(arr == 4)\n",
    "\n",
    "print(x)"
   ]
  },
  {
   "cell_type": "code",
   "execution_count": 54,
   "metadata": {},
   "outputs": [
    {
     "name": "stdout",
     "output_type": "stream",
     "text": [
      "1\n"
     ]
    }
   ],
   "source": [
    "arr = np.array([6, 7, 8, 9])\n",
    "\n",
    "x = np.searchsorted(arr, 7)\n",
    "# x = np.searchsorted(arr, 7, side='right')\n",
    "\n",
    "print(x)"
   ]
  },
  {
   "cell_type": "code",
   "execution_count": 55,
   "metadata": {},
   "outputs": [
    {
     "name": "stdout",
     "output_type": "stream",
     "text": [
      "[0 1 2 3]\n"
     ]
    }
   ],
   "source": [
    "arr = np.array([3, 2, 0, 1])\n",
    "\n",
    "print(np.sort(arr))"
   ]
  },
  {
   "cell_type": "code",
   "execution_count": 56,
   "metadata": {},
   "outputs": [
    {
     "name": "stdout",
     "output_type": "stream",
     "text": [
      "[[2 3 4]\n",
      " [0 1 5]]\n"
     ]
    }
   ],
   "source": [
    "arr = np.array([[3, 2, 4], [5, 0, 1]])\n",
    "\n",
    "print(np.sort(arr))"
   ]
  },
  {
   "cell_type": "code",
   "execution_count": 59,
   "metadata": {},
   "outputs": [
    {
     "name": "stdout",
     "output_type": "stream",
     "text": [
      "[42 33 66  9]\n"
     ]
    }
   ],
   "source": [
    "arr = np.array([41, 42, 43, 44,44,33,22,11,44,55,66,7,8,9,10])\n",
    "\n",
    "# x = [True, False, True, False]\n",
    "x = []\n",
    "for i in arr:\n",
    "    if i % 3 == 0:\n",
    "        x.append(True)\n",
    "    else:\n",
    "        x.append(False)\n",
    "\n",
    "newarr = arr[x]\n",
    "\n",
    "print(newarr)"
   ]
  },
  {
   "cell_type": "code",
   "execution_count": 64,
   "metadata": {},
   "outputs": [
    {
     "name": "stdout",
     "output_type": "stream",
     "text": [
      "17\n"
     ]
    }
   ],
   "source": [
    "from numpy import random\n",
    "x = random.randint(10,22)  # Given Range\n",
    "\n",
    "print(x)"
   ]
  },
  {
   "cell_type": "code",
   "execution_count": 71,
   "metadata": {},
   "outputs": [
    {
     "name": "stdout",
     "output_type": "stream",
     "text": [
      "65.72442403441022\n"
     ]
    }
   ],
   "source": [
    "x = random.rand() # 0 - 1\n",
    "\n",
    "print(x)"
   ]
  },
  {
   "cell_type": "code",
   "execution_count": 76,
   "metadata": {},
   "outputs": [
    {
     "name": "stdout",
     "output_type": "stream",
     "text": [
      "[[87 64 74 55]\n",
      " [38 42 31 82]\n",
      " [71 99 50 75]\n",
      " [46 53 48 46]\n",
      " [32 85 25 87]]\n"
     ]
    }
   ],
   "source": [
    "\n",
    "x=random.randint(100, size=(5))\n",
    "x=random.randint(20,100, size=(5,4))\n",
    "print(x)"
   ]
  },
  {
   "cell_type": "code",
   "execution_count": 78,
   "metadata": {},
   "outputs": [
    {
     "name": "stdout",
     "output_type": "stream",
     "text": [
      "[[0.52697564 0.65291543 0.85071792 0.69675964 0.66948717 0.98789151]\n",
      " [0.78829428 0.36624011 0.47742264 0.64984638 0.88449909 0.7750973 ]\n",
      " [0.58033397 0.45505861 0.97728186 0.73920869 0.6424355  0.58133166]\n",
      " [0.01454369 0.41312637 0.45383962 0.69872905 0.47763239 0.93149926]\n",
      " [0.72221202 0.45069744 0.5268339  0.35592111 0.16864209 0.63799473]]\n"
     ]
    }
   ],
   "source": [
    "\n",
    "x = random.rand(5,6)\n",
    "\n",
    "print(x)"
   ]
  },
  {
   "cell_type": "code",
   "execution_count": 83,
   "metadata": {},
   "outputs": [
    {
     "data": {
      "text/plain": [
       "array([[7, 7, 3, 9, 9],\n",
       "       [5, 9, 5, 9, 5],\n",
       "       [9, 9, 9, 9, 7]])"
      ]
     },
     "execution_count": 83,
     "metadata": {},
     "output_type": "execute_result"
    }
   ],
   "source": [
    "arr = np.array([3, 5, 7, 9])\n",
    "x = random.choice(arr)\n",
    "x"
   ]
  },
  {
   "cell_type": "code",
   "execution_count": 85,
   "metadata": {},
   "outputs": [
    {
     "data": {
      "text/plain": [
       "array([[9, 5, 7, 5, 9],\n",
       "       [7, 5, 7, 3, 7],\n",
       "       [9, 3, 7, 7, 5]])"
      ]
     },
     "execution_count": 85,
     "metadata": {},
     "output_type": "execute_result"
    }
   ],
   "source": [
    "x = random.choice([3, 5, 7, 9], size=(3, 5))\n",
    "x"
   ]
  },
  {
   "cell_type": "code",
   "execution_count": 86,
   "metadata": {},
   "outputs": [
    {
     "data": {
      "text/plain": [
       "array([[-1.35178727, -1.40219772, -0.53640024],\n",
       "       [-0.33274077,  0.2415874 , -2.55813792]])"
      ]
     },
     "execution_count": 86,
     "metadata": {},
     "output_type": "execute_result"
    }
   ],
   "source": [
    "x = random.normal(size=(2, 3))\n",
    "x"
   ]
  },
  {
   "cell_type": "code",
   "execution_count": 88,
   "metadata": {},
   "outputs": [
    {
     "data": {
      "text/plain": [
       "12"
      ]
     },
     "execution_count": 88,
     "metadata": {},
     "output_type": "execute_result"
    }
   ],
   "source": [
    "num1 = 4\n",
    "num2 = 6\n",
    "\n",
    "x = np.lcm(num1, num2)\n",
    "x"
   ]
  },
  {
   "cell_type": "code",
   "execution_count": 89,
   "metadata": {},
   "outputs": [
    {
     "data": {
      "text/plain": [
       "3"
      ]
     },
     "execution_count": 89,
     "metadata": {},
     "output_type": "execute_result"
    }
   ],
   "source": [
    "num1 = 6\n",
    "num2 = 9\n",
    "\n",
    "x = np.gcd(num1, num2)\n",
    "x"
   ]
  },
  {
   "cell_type": "code",
   "execution_count": null,
   "metadata": {},
   "outputs": [],
   "source": []
  }
 ],
 "metadata": {
  "kernelspec": {
   "display_name": "Python 3",
   "language": "python",
   "name": "python3"
  },
  "language_info": {
   "codemirror_mode": {
    "name": "ipython",
    "version": 3
   },
   "file_extension": ".py",
   "mimetype": "text/x-python",
   "name": "python",
   "nbconvert_exporter": "python",
   "pygments_lexer": "ipython3",
   "version": "3.12.3"
  }
 },
 "nbformat": 4,
 "nbformat_minor": 2
}

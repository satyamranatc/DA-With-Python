{
 "cells": [
  {
   "cell_type": "code",
   "execution_count": 88,
   "metadata": {},
   "outputs": [],
   "source": [
    "import pandas as pd\n",
    "import numpy as np"
   ]
  },
  {
   "cell_type": "code",
   "execution_count": 89,
   "metadata": {},
   "outputs": [],
   "source": [
    "Df = pd.read_csv(\"./Data.txt\", delimiter=\"\\t\")"
   ]
  },
  {
   "cell_type": "code",
   "execution_count": 90,
   "metadata": {},
   "outputs": [
    {
     "data": {
      "text/html": [
       "<div>\n",
       "<style scoped>\n",
       "    .dataframe tbody tr th:only-of-type {\n",
       "        vertical-align: middle;\n",
       "    }\n",
       "\n",
       "    .dataframe tbody tr th {\n",
       "        vertical-align: top;\n",
       "    }\n",
       "\n",
       "    .dataframe thead th {\n",
       "        text-align: right;\n",
       "    }\n",
       "</style>\n",
       "<table border=\"1\" class=\"dataframe\">\n",
       "  <thead>\n",
       "    <tr style=\"text-align: right;\">\n",
       "      <th></th>\n",
       "      <th>Date</th>\n",
       "      <th>Company</th>\n",
       "      <th>Person Name</th>\n",
       "      <th>Room number</th>\n",
       "    </tr>\n",
       "  </thead>\n",
       "  <tbody>\n",
       "    <tr>\n",
       "      <th>0</th>\n",
       "      <td>1-Jan-2022</td>\n",
       "      <td>Avamba</td>\n",
       "      <td>Anatole Ridehalgh</td>\n",
       "      <td>4008.0</td>\n",
       "    </tr>\n",
       "    <tr>\n",
       "      <th>1</th>\n",
       "      <td>1-Jan-2022</td>\n",
       "      <td>Fatz</td>\n",
       "      <td>Aldrich McKevin</td>\n",
       "      <td>2002.0</td>\n",
       "    </tr>\n",
       "    <tr>\n",
       "      <th>2</th>\n",
       "      <td>1-Jan-2022</td>\n",
       "      <td>Leexo</td>\n",
       "      <td>Stanley Hadrill</td>\n",
       "      <td>4012.0</td>\n",
       "    </tr>\n",
       "    <tr>\n",
       "      <th>3</th>\n",
       "      <td>Hotels</td>\n",
       "      <td>NaN</td>\n",
       "      <td>NaN</td>\n",
       "      <td>NaN</td>\n",
       "    </tr>\n",
       "    <tr>\n",
       "      <th>4</th>\n",
       "      <td>1-Jan-2022</td>\n",
       "      <td>Rhyzio</td>\n",
       "      <td>Lyndell Tice</td>\n",
       "      <td>1006.0</td>\n",
       "    </tr>\n",
       "    <tr>\n",
       "      <th>...</th>\n",
       "      <td>...</td>\n",
       "      <td>...</td>\n",
       "      <td>...</td>\n",
       "      <td>...</td>\n",
       "    </tr>\n",
       "    <tr>\n",
       "      <th>190</th>\n",
       "      <td>Cleartrip</td>\n",
       "      <td>NaN</td>\n",
       "      <td>NaN</td>\n",
       "      <td>NaN</td>\n",
       "    </tr>\n",
       "    <tr>\n",
       "      <th>191</th>\n",
       "      <td>1-Jan-2022</td>\n",
       "      <td>Fivechat</td>\n",
       "      <td>Corabella Saye</td>\n",
       "      <td>4008.0</td>\n",
       "    </tr>\n",
       "    <tr>\n",
       "      <th>192</th>\n",
       "      <td>1-Jan-2022</td>\n",
       "      <td>Innojam</td>\n",
       "      <td>Leandra Potapczuk</td>\n",
       "      <td>5002.0</td>\n",
       "    </tr>\n",
       "    <tr>\n",
       "      <th>193</th>\n",
       "      <td>1-Jan-2022</td>\n",
       "      <td>Twitterworks</td>\n",
       "      <td>Valentia Ledson</td>\n",
       "      <td>1010.0</td>\n",
       "    </tr>\n",
       "    <tr>\n",
       "      <th>194</th>\n",
       "      <td>Hotels</td>\n",
       "      <td>NaN</td>\n",
       "      <td>NaN</td>\n",
       "      <td>NaN</td>\n",
       "    </tr>\n",
       "  </tbody>\n",
       "</table>\n",
       "<p>195 rows × 4 columns</p>\n",
       "</div>"
      ],
      "text/plain": [
       "           Date       Company        Person Name  Room number\n",
       "0    1-Jan-2022        Avamba  Anatole Ridehalgh       4008.0\n",
       "1    1-Jan-2022          Fatz    Aldrich McKevin       2002.0\n",
       "2    1-Jan-2022         Leexo    Stanley Hadrill       4012.0\n",
       "3        Hotels           NaN                NaN          NaN\n",
       "4    1-Jan-2022        Rhyzio       Lyndell Tice       1006.0\n",
       "..          ...           ...                ...          ...\n",
       "190   Cleartrip           NaN                NaN          NaN\n",
       "191  1-Jan-2022      Fivechat     Corabella Saye       4008.0\n",
       "192  1-Jan-2022       Innojam  Leandra Potapczuk       5002.0\n",
       "193  1-Jan-2022  Twitterworks    Valentia Ledson       1010.0\n",
       "194      Hotels           NaN                NaN          NaN\n",
       "\n",
       "[195 rows x 4 columns]"
      ]
     },
     "execution_count": 90,
     "metadata": {},
     "output_type": "execute_result"
    }
   ],
   "source": [
    "Df"
   ]
  },
  {
   "cell_type": "code",
   "execution_count": 91,
   "metadata": {},
   "outputs": [
    {
     "name": "stdout",
     "output_type": "stream",
     "text": [
      "<class 'pandas.core.frame.DataFrame'>\n",
      "RangeIndex: 195 entries, 0 to 194\n",
      "Data columns (total 4 columns):\n",
      " #   Column       Non-Null Count  Dtype  \n",
      "---  ------       --------------  -----  \n",
      " 0   Date         195 non-null    object \n",
      " 1   Company      134 non-null    object \n",
      " 2   Person Name  153 non-null    object \n",
      " 3   Room number  153 non-null    float64\n",
      "dtypes: float64(1), object(3)\n",
      "memory usage: 6.2+ KB\n"
     ]
    }
   ],
   "source": [
    "Df.info()"
   ]
  },
  {
   "cell_type": "code",
   "execution_count": 92,
   "metadata": {},
   "outputs": [
    {
     "data": {
      "text/html": [
       "<div>\n",
       "<style scoped>\n",
       "    .dataframe tbody tr th:only-of-type {\n",
       "        vertical-align: middle;\n",
       "    }\n",
       "\n",
       "    .dataframe tbody tr th {\n",
       "        vertical-align: top;\n",
       "    }\n",
       "\n",
       "    .dataframe thead th {\n",
       "        text-align: right;\n",
       "    }\n",
       "</style>\n",
       "<table border=\"1\" class=\"dataframe\">\n",
       "  <thead>\n",
       "    <tr style=\"text-align: right;\">\n",
       "      <th></th>\n",
       "      <th>Room number</th>\n",
       "    </tr>\n",
       "  </thead>\n",
       "  <tbody>\n",
       "    <tr>\n",
       "      <th>count</th>\n",
       "      <td>153.000000</td>\n",
       "    </tr>\n",
       "    <tr>\n",
       "      <th>mean</th>\n",
       "      <td>3079.326797</td>\n",
       "    </tr>\n",
       "    <tr>\n",
       "      <th>std</th>\n",
       "      <td>1718.791186</td>\n",
       "    </tr>\n",
       "    <tr>\n",
       "      <th>min</th>\n",
       "      <td>1001.000000</td>\n",
       "    </tr>\n",
       "    <tr>\n",
       "      <th>25%</th>\n",
       "      <td>2001.000000</td>\n",
       "    </tr>\n",
       "    <tr>\n",
       "      <th>50%</th>\n",
       "      <td>3008.000000</td>\n",
       "    </tr>\n",
       "    <tr>\n",
       "      <th>75%</th>\n",
       "      <td>4010.000000</td>\n",
       "    </tr>\n",
       "    <tr>\n",
       "      <th>max</th>\n",
       "      <td>7002.000000</td>\n",
       "    </tr>\n",
       "  </tbody>\n",
       "</table>\n",
       "</div>"
      ],
      "text/plain": [
       "       Room number\n",
       "count   153.000000\n",
       "mean   3079.326797\n",
       "std    1718.791186\n",
       "min    1001.000000\n",
       "25%    2001.000000\n",
       "50%    3008.000000\n",
       "75%    4010.000000\n",
       "max    7002.000000"
      ]
     },
     "execution_count": 92,
     "metadata": {},
     "output_type": "execute_result"
    }
   ],
   "source": [
    "Df.describe()"
   ]
  },
  {
   "cell_type": "code",
   "execution_count": 93,
   "metadata": {},
   "outputs": [],
   "source": [
    "# Df[\"X\"] = Df[\"Room number\"] *2"
   ]
  },
  {
   "cell_type": "code",
   "execution_count": 94,
   "metadata": {},
   "outputs": [
    {
     "data": {
      "text/html": [
       "<div>\n",
       "<style scoped>\n",
       "    .dataframe tbody tr th:only-of-type {\n",
       "        vertical-align: middle;\n",
       "    }\n",
       "\n",
       "    .dataframe tbody tr th {\n",
       "        vertical-align: top;\n",
       "    }\n",
       "\n",
       "    .dataframe thead th {\n",
       "        text-align: right;\n",
       "    }\n",
       "</style>\n",
       "<table border=\"1\" class=\"dataframe\">\n",
       "  <thead>\n",
       "    <tr style=\"text-align: right;\">\n",
       "      <th></th>\n",
       "      <th>Date</th>\n",
       "      <th>Company</th>\n",
       "      <th>Person Name</th>\n",
       "      <th>Room number</th>\n",
       "    </tr>\n",
       "  </thead>\n",
       "  <tbody>\n",
       "    <tr>\n",
       "      <th>0</th>\n",
       "      <td>1-Jan-2022</td>\n",
       "      <td>Avamba</td>\n",
       "      <td>Anatole Ridehalgh</td>\n",
       "      <td>4008.0</td>\n",
       "    </tr>\n",
       "    <tr>\n",
       "      <th>1</th>\n",
       "      <td>1-Jan-2022</td>\n",
       "      <td>Fatz</td>\n",
       "      <td>Aldrich McKevin</td>\n",
       "      <td>2002.0</td>\n",
       "    </tr>\n",
       "    <tr>\n",
       "      <th>2</th>\n",
       "      <td>1-Jan-2022</td>\n",
       "      <td>Leexo</td>\n",
       "      <td>Stanley Hadrill</td>\n",
       "      <td>4012.0</td>\n",
       "    </tr>\n",
       "    <tr>\n",
       "      <th>3</th>\n",
       "      <td>Hotels</td>\n",
       "      <td>NaN</td>\n",
       "      <td>NaN</td>\n",
       "      <td>NaN</td>\n",
       "    </tr>\n",
       "    <tr>\n",
       "      <th>4</th>\n",
       "      <td>1-Jan-2022</td>\n",
       "      <td>Rhyzio</td>\n",
       "      <td>Lyndell Tice</td>\n",
       "      <td>1006.0</td>\n",
       "    </tr>\n",
       "    <tr>\n",
       "      <th>...</th>\n",
       "      <td>...</td>\n",
       "      <td>...</td>\n",
       "      <td>...</td>\n",
       "      <td>...</td>\n",
       "    </tr>\n",
       "    <tr>\n",
       "      <th>190</th>\n",
       "      <td>Cleartrip</td>\n",
       "      <td>NaN</td>\n",
       "      <td>NaN</td>\n",
       "      <td>NaN</td>\n",
       "    </tr>\n",
       "    <tr>\n",
       "      <th>191</th>\n",
       "      <td>1-Jan-2022</td>\n",
       "      <td>Fivechat</td>\n",
       "      <td>Corabella Saye</td>\n",
       "      <td>4008.0</td>\n",
       "    </tr>\n",
       "    <tr>\n",
       "      <th>192</th>\n",
       "      <td>1-Jan-2022</td>\n",
       "      <td>Innojam</td>\n",
       "      <td>Leandra Potapczuk</td>\n",
       "      <td>5002.0</td>\n",
       "    </tr>\n",
       "    <tr>\n",
       "      <th>193</th>\n",
       "      <td>1-Jan-2022</td>\n",
       "      <td>Twitterworks</td>\n",
       "      <td>Valentia Ledson</td>\n",
       "      <td>1010.0</td>\n",
       "    </tr>\n",
       "    <tr>\n",
       "      <th>194</th>\n",
       "      <td>Hotels</td>\n",
       "      <td>NaN</td>\n",
       "      <td>NaN</td>\n",
       "      <td>NaN</td>\n",
       "    </tr>\n",
       "  </tbody>\n",
       "</table>\n",
       "<p>195 rows × 4 columns</p>\n",
       "</div>"
      ],
      "text/plain": [
       "           Date       Company        Person Name  Room number\n",
       "0    1-Jan-2022        Avamba  Anatole Ridehalgh       4008.0\n",
       "1    1-Jan-2022          Fatz    Aldrich McKevin       2002.0\n",
       "2    1-Jan-2022         Leexo    Stanley Hadrill       4012.0\n",
       "3        Hotels           NaN                NaN          NaN\n",
       "4    1-Jan-2022        Rhyzio       Lyndell Tice       1006.0\n",
       "..          ...           ...                ...          ...\n",
       "190   Cleartrip           NaN                NaN          NaN\n",
       "191  1-Jan-2022      Fivechat     Corabella Saye       4008.0\n",
       "192  1-Jan-2022       Innojam  Leandra Potapczuk       5002.0\n",
       "193  1-Jan-2022  Twitterworks    Valentia Ledson       1010.0\n",
       "194      Hotels           NaN                NaN          NaN\n",
       "\n",
       "[195 rows x 4 columns]"
      ]
     },
     "execution_count": 94,
     "metadata": {},
     "output_type": "execute_result"
    }
   ],
   "source": [
    "Df"
   ]
  },
  {
   "cell_type": "code",
   "execution_count": 95,
   "metadata": {},
   "outputs": [
    {
     "data": {
      "text/plain": [
       "Date            0\n",
       "Company        61\n",
       "Person Name    42\n",
       "Room number    42\n",
       "dtype: int64"
      ]
     },
     "execution_count": 95,
     "metadata": {},
     "output_type": "execute_result"
    }
   ],
   "source": [
    "Df.isna().sum()"
   ]
  },
  {
   "cell_type": "code",
   "execution_count": 96,
   "metadata": {},
   "outputs": [
    {
     "data": {
      "text/plain": [
       "0      False\n",
       "1      False\n",
       "2      False\n",
       "3       True\n",
       "4      False\n",
       "       ...  \n",
       "190     True\n",
       "191    False\n",
       "192    False\n",
       "193    False\n",
       "194     True\n",
       "Name: Room number, Length: 195, dtype: bool"
      ]
     },
     "execution_count": 96,
     "metadata": {},
     "output_type": "execute_result"
    }
   ],
   "source": [
    "isText = Df[\"Room number\"].isna()\n",
    "isText"
   ]
  },
  {
   "cell_type": "code",
   "execution_count": 97,
   "metadata": {},
   "outputs": [],
   "source": [
    "Df[\"Text Data\"] = np.where(isText,Df[\"Date\"],np.NaN)"
   ]
  },
  {
   "cell_type": "code",
   "execution_count": 98,
   "metadata": {},
   "outputs": [
    {
     "data": {
      "text/plain": [
       "Text Data\n",
       "Hotels              13\n",
       "Expedia             11\n",
       "Booking              8\n",
       "Cleartrip            7\n",
       "Travel Agent 007     3\n",
       "Name: count, dtype: int64"
      ]
     },
     "execution_count": 98,
     "metadata": {},
     "output_type": "execute_result"
    }
   ],
   "source": [
    "Df[\"Text Data\"].value_counts()"
   ]
  },
  {
   "cell_type": "code",
   "execution_count": 99,
   "metadata": {},
   "outputs": [
    {
     "name": "stderr",
     "output_type": "stream",
     "text": [
      "/var/folders/nn/p8hlssl928zct0_lyyc81s8c0000gn/T/ipykernel_49744/3578323864.py:1: FutureWarning: A value is trying to be set on a copy of a DataFrame or Series through chained assignment using an inplace method.\n",
      "The behavior will change in pandas 3.0. This inplace method will never work because the intermediate object on which we are setting values always behaves as a copy.\n",
      "\n",
      "For example, when doing 'df[col].method(value, inplace=True)', try using 'df.method({col: value}, inplace=True)' or df[col] = df[col].method(value) instead, to perform the operation inplace on the original object.\n",
      "\n",
      "\n",
      "  Df[\"Text Data\"].fillna(method = \"bfill\", inplace=True)\n",
      "/var/folders/nn/p8hlssl928zct0_lyyc81s8c0000gn/T/ipykernel_49744/3578323864.py:1: FutureWarning: Series.fillna with 'method' is deprecated and will raise in a future version. Use obj.ffill() or obj.bfill() instead.\n",
      "  Df[\"Text Data\"].fillna(method = \"bfill\", inplace=True)\n"
     ]
    }
   ],
   "source": [
    "Df[\"Text Data\"].fillna(method = \"bfill\", inplace=True)"
   ]
  },
  {
   "cell_type": "code",
   "execution_count": 100,
   "metadata": {},
   "outputs": [],
   "source": [
    "Df.dropna(inplace=True)"
   ]
  },
  {
   "cell_type": "code",
   "execution_count": 101,
   "metadata": {},
   "outputs": [
    {
     "name": "stdout",
     "output_type": "stream",
     "text": [
      "<class 'pandas.core.frame.DataFrame'>\n",
      "Index: 134 entries, 0 to 193\n",
      "Data columns (total 5 columns):\n",
      " #   Column       Non-Null Count  Dtype  \n",
      "---  ------       --------------  -----  \n",
      " 0   Date         134 non-null    object \n",
      " 1   Company      134 non-null    object \n",
      " 2   Person Name  134 non-null    object \n",
      " 3   Room number  134 non-null    float64\n",
      " 4   Text Data    134 non-null    object \n",
      "dtypes: float64(1), object(4)\n",
      "memory usage: 6.3+ KB\n"
     ]
    },
    {
     "data": {
      "text/plain": [
       "Date           0\n",
       "Company        0\n",
       "Person Name    0\n",
       "Room number    0\n",
       "Text Data      0\n",
       "dtype: int64"
      ]
     },
     "execution_count": 101,
     "metadata": {},
     "output_type": "execute_result"
    }
   ],
   "source": [
    "Df.info()\n",
    "Df.isna().sum()"
   ]
  },
  {
   "cell_type": "code",
   "execution_count": 103,
   "metadata": {},
   "outputs": [
    {
     "data": {
      "text/plain": [
       "Company\n",
       "Leexo       3\n",
       "Fivechat    3\n",
       "Quinu       3\n",
       "Name: count, dtype: int64"
      ]
     },
     "execution_count": 103,
     "metadata": {},
     "output_type": "execute_result"
    }
   ],
   "source": [
    "Df[\"Company\"].value_counts().head(3)"
   ]
  },
  {
   "cell_type": "code",
   "execution_count": 115,
   "metadata": {},
   "outputs": [
    {
     "data": {
      "text/plain": [
       "Company\n",
       "Aimbo      2\n",
       "Aimbu      1\n",
       "Ainyx      2\n",
       "Avamba     1\n",
       "Avamm      1\n",
       "          ..\n",
       "Youspan    1\n",
       "Yozio      1\n",
       "Zava       1\n",
       "Zoomdog    1\n",
       "Zooxo      1\n",
       "Name: Room number, Length: 114, dtype: int64"
      ]
     },
     "execution_count": 115,
     "metadata": {},
     "output_type": "execute_result"
    }
   ],
   "source": [
    "# Group by Df[\"Company\"]\n",
    "Df.groupby(\"Company\")[\"Room number\"].count()"
   ]
  },
  {
   "cell_type": "code",
   "execution_count": 116,
   "metadata": {},
   "outputs": [
    {
     "data": {
      "text/plain": [
       "Room number\n",
       "4010.0    5\n",
       "1008.0    5\n",
       "2001.0    4\n",
       "1004.0    4\n",
       "2009.0    4\n",
       "Name: count, dtype: int64"
      ]
     },
     "execution_count": 116,
     "metadata": {},
     "output_type": "execute_result"
    }
   ],
   "source": [
    "Df[\"Room number\"].value_counts().head()"
   ]
  },
  {
   "cell_type": "code",
   "execution_count": 120,
   "metadata": {},
   "outputs": [
    {
     "data": {
      "text/plain": [
       "Person Name\n",
       "Abel Do            1\n",
       "Adda Dive          1\n",
       "Akim Chang         1\n",
       "Aldrich McKevin    1\n",
       "Alley Pyer         1\n",
       "Name: Room number, dtype: int64"
      ]
     },
     "execution_count": 120,
     "metadata": {},
     "output_type": "execute_result"
    }
   ],
   "source": [
    "Df.groupby(\"Person Name\")[\"Room number\"].count().head()"
   ]
  },
  {
   "cell_type": "code",
   "execution_count": 122,
   "metadata": {},
   "outputs": [
    {
     "data": {
      "text/plain": [
       "Date\n",
       "1-Jan-2022    134\n",
       "Name: Room number, dtype: int64"
      ]
     },
     "execution_count": 122,
     "metadata": {},
     "output_type": "execute_result"
    }
   ],
   "source": [
    "Df.groupby(\"Date\")[\"Room number\"].count()"
   ]
  },
  {
   "cell_type": "code",
   "execution_count": 124,
   "metadata": {},
   "outputs": [
    {
     "data": {
      "text/plain": [
       "Text Data\n",
       "Booking             24\n",
       "Cleartrip           11\n",
       "Expedia             48\n",
       "Hotels              39\n",
       "Travel Agent 007    12\n",
       "Name: Room number, dtype: int64"
      ]
     },
     "execution_count": 124,
     "metadata": {},
     "output_type": "execute_result"
    }
   ],
   "source": [
    "Df.groupby(\"Text Data\")[\"Room number\"].count()"
   ]
  },
  {
   "cell_type": "code",
   "execution_count": 131,
   "metadata": {},
   "outputs": [
    {
     "data": {
      "text/plain": [
       "Text Data\n",
       "Expedia             48\n",
       "Hotels              39\n",
       "Booking             24\n",
       "Travel Agent 007    12\n",
       "Cleartrip           11\n",
       "Name: Room number, dtype: int64"
      ]
     },
     "execution_count": 131,
     "metadata": {},
     "output_type": "execute_result"
    }
   ],
   "source": [
    "Df.groupby(\"Text Data\")[\"Room number\"].count().sort_values(ascending=False)"
   ]
  }
 ],
 "metadata": {
  "kernelspec": {
   "display_name": "Python 3",
   "language": "python",
   "name": "python3"
  },
  "language_info": {
   "codemirror_mode": {
    "name": "ipython",
    "version": 3
   },
   "file_extension": ".py",
   "mimetype": "text/x-python",
   "name": "python",
   "nbconvert_exporter": "python",
   "pygments_lexer": "ipython3",
   "version": "3.12.3"
  }
 },
 "nbformat": 4,
 "nbformat_minor": 2
}
